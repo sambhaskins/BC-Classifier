{
 "cells": [
  {
   "cell_type": "code",
   "execution_count": 66,
   "id": "3c0fbf97",
   "metadata": {},
   "outputs": [],
   "source": [
    "# Necessary imports for the EDA\n",
    "import os\n",
    "import numpy as np\n",
    "import pandas as pd\n",
    "import matplotlib.pyplot as plt\n",
    "import matplotlib.patches as patches\n",
    "from PIL import Image\n",
    "import seaborn as sns\n",
    "import cv2\n",
    "import plotly.express as px\n",
    "import xml.etree.ElementTree as ET # Using this to parse the XML annotations file\n",
    "from imblearn.over_sampling import RandomOverSampler # For balancing\n",
    "from imblearn.under_sampling import RandomUnderSampler # For balancing"
   ]
  },
  {
   "cell_type": "code",
   "execution_count": 67,
   "id": "694976e2",
   "metadata": {},
   "outputs": [],
   "source": [
    "bccd_images_dir = './BCCD_Dataset/BCCD/JPEGImages/'\n",
    "bccd_annotations_dir = './BCCD_Dataset/BCCD/Annotations/'\n",
    "cbc_images_dir = './Complete-Blood-Cell-Count-Dataset/Training/Images/'\n",
    "cbc_annotations_dir = './Complete-Blood-Cell-Count-Dataset/Training/Annotations/'"
   ]
  },
  {
   "cell_type": "code",
   "execution_count": 79,
   "id": "338966eb",
   "metadata": {},
   "outputs": [],
   "source": [
    "def load_annotation(annotation_path):\n",
    "    '''\n",
    "    Load and parse an XML annotation file.\n",
    "\n",
    "    This function reads an XML file, parses the file, and extracts details about objects \n",
    "    found within the smear.\n",
    "    Parameters:\n",
    "    - annotation_path (str): The file path to the XML annotation file.\n",
    "\n",
    "    Returns:\n",
    "    - dict: A dictionary containing a list of objects, each represented as a dictionary with\n",
    "      keys for the object's name, pose, truncated status, difficulty status, and bounding box.\n",
    "      The bounding box itself is a dictionary with 'xmin', 'ymin', 'xmax', and 'ymax'.\n",
    "    '''\n",
    "\n",
    "    tree = ET.parse(annotation_path)\n",
    "    root = tree.getroot()\n",
    "\n",
    "    annotations = {\n",
    "        'objects': []\n",
    "    }\n",
    "\n",
    "    for obj in root.findall('.//object'):\n",
    "        obj_name = obj.find('.//name').text\n",
    "        obj_pose = obj.find('.//pose').text\n",
    "        obj_truncated = int(obj.find('.//truncated').text)\n",
    "        obj_difficult = int(obj.find('.//difficult').text)\n",
    "\n",
    "        bndbox = obj.find('.//bndbox')\n",
    "        bbox = {\n",
    "            'xmin': int(bndbox.find('.//xmin').text),\n",
    "            'ymin': int(bndbox.find('.//ymin').text),\n",
    "            'xmax': int(bndbox.find('.//xmax').text),\n",
    "            'ymax': int(bndbox.find('.//ymax').text)\n",
    "        }\n",
    "\n",
    "        annotations['objects'].append({\n",
    "            'name': obj_name,\n",
    "            'pose': obj_pose,\n",
    "            'truncated': obj_truncated,\n",
    "            'difficult': obj_difficult,\n",
    "            'bbox': bbox\n",
    "        })\n",
    "\n",
    "    return annotations"
   ]
  },
  {
   "cell_type": "code",
   "execution_count": null,
   "id": "a99753fa",
   "metadata": {},
   "outputs": [],
   "source": []
  },
  {
   "cell_type": "code",
   "execution_count": null,
   "id": "fe74f82d",
   "metadata": {},
   "outputs": [],
   "source": []
  }
 ],
 "metadata": {
  "kernelspec": {
   "display_name": "Python 3 (ipykernel)",
   "language": "python",
   "name": "python3"
  },
  "language_info": {
   "codemirror_mode": {
    "name": "ipython",
    "version": 3
   },
   "file_extension": ".py",
   "mimetype": "text/x-python",
   "name": "python",
   "nbconvert_exporter": "python",
   "pygments_lexer": "ipython3",
   "version": "3.11.7"
  }
 },
 "nbformat": 4,
 "nbformat_minor": 5
}
